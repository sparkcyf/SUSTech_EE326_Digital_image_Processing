{
 "cells": [
  {
   "cell_type": "markdown",
   "metadata": {},
   "source": [
    "# Lab 2\n"
   ]
  },
  {
   "cell_type": "markdown",
   "metadata": {},
   "source": [
    "`import interp` [scipy.interpolate.interp2d](https://docs.scipy.org/doc/scipy/reference/generated/scipy.interpolate.interp2d.html)\n"
   ]
  },
  {
   "cell_type": "markdown",
   "metadata": {},
   "source": [
    "## Objective\n",
    "\n",
    "![theory](./Comparison_of_1D_and_2D_interpolation.svg)"
   ]
  },
  {
   "cell_type": "markdown",
   "metadata": {},
   "source": [
    "## Code"
   ]
  },
  {
   "cell_type": "code",
   "execution_count": 2,
   "metadata": {
    "pycharm": {
     "name": "#%%\n"
    }
   },
   "outputs": [
    {
     "ename": "ModuleNotFoundError",
     "evalue": "No module named 'numba'",
     "output_type": "error",
     "traceback": [
      "\u001B[0;31m---------------------------------------------------------------------------\u001B[0m",
      "\u001B[0;31mModuleNotFoundError\u001B[0m                       Traceback (most recent call last)",
      "\u001B[0;32m<ipython-input-2-899fec6ef18e>\u001B[0m in \u001B[0;36m<module>\u001B[0;34m\u001B[0m\n\u001B[1;32m      4\u001B[0m \u001B[0;32mfrom\u001B[0m \u001B[0mPIL\u001B[0m \u001B[0;32mimport\u001B[0m \u001B[0mImage\u001B[0m\u001B[0;34m\u001B[0m\u001B[0;34m\u001B[0m\u001B[0m\n\u001B[1;32m      5\u001B[0m \u001B[0;32mimport\u001B[0m \u001B[0mtime\u001B[0m\u001B[0;34m\u001B[0m\u001B[0;34m\u001B[0m\u001B[0m\n\u001B[0;32m----> 6\u001B[0;31m \u001B[0;32mfrom\u001B[0m \u001B[0mnumba\u001B[0m \u001B[0;32mimport\u001B[0m \u001B[0mjit\u001B[0m\u001B[0;34m\u001B[0m\u001B[0;34m\u001B[0m\u001B[0m\n\u001B[0m\u001B[1;32m      7\u001B[0m \u001B[0;34m\u001B[0m\u001B[0m\n",
      "\u001B[0;31mModuleNotFoundError\u001B[0m: No module named 'numba'"
     ]
    }
   ],
   "source": [
    "from scipy import interpolate\n",
    "import numpy as np\n",
    "import matplotlib.pyplot as plt\n",
    "from PIL import Image\n",
    "import time\n",
    "from numba import jit"
   ]
  },
  {
   "cell_type": "markdown",
   "metadata": {},
   "source": [
    "### Load the image\n",
    "\n",
    "Load and show the image inline."
   ]
  },
  {
   "cell_type": "code",
   "execution_count": null,
   "metadata": {
    "pycharm": {
     "name": "#%%\n"
    }
   },
   "outputs": [],
   "source": [
    "image = Image.open('rice.tif')\n",
    "image"
   ]
  },
  {
   "cell_type": "markdown",
   "metadata": {},
   "source": [
    "### Convert the image to numpy array"
   ]
  },
  {
   "cell_type": "code",
   "execution_count": null,
   "metadata": {
    "pycharm": {
     "name": "#%%\n"
    }
   },
   "outputs": [],
   "source": [
    "imarray = np.array(image)\n",
    "print(imarray.shape)\n",
    "print(imarray)"
   ]
  },
  {
   "cell_type": "code",
   "execution_count": null,
   "metadata": {
    "pycharm": {
     "name": "#%%\n"
    }
   },
   "outputs": [],
   "source": [
    "print(imarray.shape[0])"
   ]
  },
  {
   "cell_type": "markdown",
   "metadata": {},
   "source": [
    "### Nearest neighbor"
   ]
  },
  {
   "cell_type": "code",
   "execution_count": null,
   "metadata": {
    "pycharm": {
     "name": "#%%\n"
    }
   },
   "outputs": [],
   "source": [
    "def Nearest_11812418(input_file, dim):\n",
    "    image = Image.open(input_file)\n",
    "    imarray = np.array(image)\n",
    "    #find the dimenssion of input file\n",
    "    input_height = imarray.shape[0]\n",
    "    input_width = imarray.shape[1]\n",
    "\n",
    "    #set the output\n",
    "    #dim(0) is the height\n",
    "    #dim(1) is the width\n",
    "    #init an array\n",
    "    output_arr = np.zeros(dim)\n",
    "\n",
    "    #iterate in output array\n",
    "    for i in range(dim[0]):\n",
    "        for j in range(dim[1]):\n",
    "            #i height (dim0)\n",
    "            #j width (dim1)\n",
    "            interpolation_h = round((i)*(input_height-1)/(dim[0]-1))\n",
    "            interpolation_w = round((j)*(input_width-1)/(dim[1]-1))\n",
    "            output_arr[i][j] = imarray[interpolation_h][interpolation_w]\n",
    "\n",
    "\n",
    "    return output_arr"
   ]
  },
  {
   "cell_type": "markdown",
   "metadata": {},
   "source": [
    "#### Testbench"
   ]
  },
  {
   "cell_type": "code",
   "execution_count": null,
   "metadata": {
    "pycharm": {
     "name": "#%%\n"
    }
   },
   "outputs": [],
   "source": [
    "#enlarge\n",
    "dim = (461,461)\n",
    "\n",
    "start_time = time.time()\n",
    "output_img = Nearest_11812418('rice.tif',dim)\n",
    "print(\"--- %s seconds ---\" % (time.time() - start_time))\n",
    "\n",
    "im = Image.fromarray(output_img.astype(np.uint8))\n",
    "im.save(\"Enlarged_Nearest_11812418.tif\")\n",
    "im.save(\"Enlarged_Nearest_11812418.png\")\n",
    "plt.imshow(output_img, cmap=plt.cm.Greys)\n",
    "plt.show()\n"
   ]
  },
  {
   "cell_type": "code",
   "execution_count": null,
   "metadata": {
    "collapsed": false,
    "jupyter": {
     "outputs_hidden": false
    },
    "pycharm": {
     "name": "#%%\n"
    }
   },
   "outputs": [],
   "source": [
    "#shrink\n",
    "dim = (205,205)\n",
    "output_img = Nearest_11812418('rice.tif',dim)\n",
    "im = Image.fromarray(output_img.astype(np.uint8))\n",
    "im.save(\"Shrinked_Nearest_11812418.tif\")\n",
    "im.save(\"Shrinked_Nearest_11812418.png\")\n",
    "plt.imshow(output_img, cmap=plt.cm.Greys)\n",
    "plt.show()"
   ]
  },
  {
   "cell_type": "markdown",
   "metadata": {
    "pycharm": {
     "name": "#%% md\n"
    }
   },
   "source": [
    "### Bilinear Interpolation"
   ]
  },
  {
   "cell_type": "code",
   "execution_count": null,
   "metadata": {
    "pycharm": {
     "name": "#%%\n"
    }
   },
   "outputs": [],
   "source": [
    "def Bilinear_11812418(input_file, dim):\n",
    "    image = Image.open(input_file)\n",
    "    imarray = np.array(image)\n",
    "    #find the dimenssion of input file\n",
    "    input_height = imarray.shape[0]\n",
    "    input_width = imarray.shape[1]\n",
    "\n",
    "    #set the output\n",
    "    #dim(0) is the height\n",
    "    #dim(1) is the width\n",
    "    #init an array\n",
    "    output_arr = np.zeros(dim)\n",
    "\n",
    "    delta_height = 1\n",
    "    delta_width = 1\n",
    "    #base: output\n",
    "    #iterate in output array\n",
    "    for i in range(dim[0]):\n",
    "        for j in range(dim[1]):\n",
    "            #i height (dim0)\n",
    "            #j width (dim1)\n",
    "\n",
    "            #start from 1\n",
    "            #transform to input coordinate\n",
    "            projected_height = (i)*(input_height-1)/(dim[0]-1)\n",
    "            projected_width = (j)*(input_width-1)/(dim[1]-1)\n",
    "            #print(str(projected_height) + ' ' + str(projected_width))\n",
    "\n",
    "            #find the border\n",
    "\n",
    "            interpolation_h_up = int(np.ceil(projected_height))\n",
    "            interpolation_h_down = int(np.floor(projected_height))\n",
    "            interpolation_w_up = int(np.ceil(projected_width))\n",
    "            interpolation_w_down = int(np.floor(projected_width))\n",
    "\n",
    "            k_w_down = (abs(imarray[interpolation_h_up][interpolation_w_down]-imarray[interpolation_h_down][interpolation_w_down]))/delta_height\n",
    "\n",
    "            w_down_val = imarray[interpolation_h_down][interpolation_w_down] + k_w_down*(projected_height-interpolation_h_down)\n",
    "\n",
    "            k_w_up = (abs(imarray[interpolation_h_up][interpolation_w_up]-imarray[interpolation_h_down][interpolation_w_up]))/delta_height\n",
    "            w_up_val = imarray[interpolation_h_down][interpolation_w_up] + k_w_up*(projected_height-interpolation_h_down)\n",
    "\n",
    "\n",
    "            #special case\n",
    "            if(projected_height % 1):\n",
    "                w_down_val = imarray[int(projected_height)][int(projected_width)]\n",
    "                w_up_val = imarray[int(projected_height)][int(projected_width)]\n",
    "\n",
    "            if(projected_width % 1):\n",
    "                interpolation_w_down = projected_width\n",
    "\n",
    "            k_h = (abs(w_up_val-w_down_val)/delta_width)\n",
    "            h_val = w_down_val + k_h*(projected_width-interpolation_w_down)\n",
    "\n",
    "            output_arr[i][j] = h_val\n",
    "    print(output_arr)\n",
    "    return output_arr\n"
   ]
  },
  {
   "cell_type": "markdown",
   "metadata": {},
   "source": [
    "#### Testbench"
   ]
  },
  {
   "cell_type": "code",
   "execution_count": null,
   "metadata": {
    "pycharm": {
     "name": "#%%\n"
    }
   },
   "outputs": [],
   "source": [
    "dim = (461,461)\n",
    "\n",
    "start_time = time.time()\n",
    "output_img2 = Bilinear_11812418('rice.tif',dim)\n",
    "print(\"--- %s seconds ---\" % (time.time() - start_time))\n",
    "\n",
    "im = Image.fromarray(output_img2.astype(np.uint8))\n",
    "im.save(\"Enlarged_Bilinear_11812418.tif\")\n",
    "im.save(\"Enlarged_Bilinear_11812418.png\")\n",
    "plt.imshow(output_img2, cmap=plt.cm.Greys)\n",
    "plt.show()"
   ]
  },
  {
   "cell_type": "code",
   "execution_count": null,
   "metadata": {
    "collapsed": false,
    "jupyter": {
     "outputs_hidden": false
    },
    "pycharm": {
     "name": "#%%\n"
    }
   },
   "outputs": [],
   "source": [
    "dim = (205,205)\n",
    "output_img2 = Bilinear_11812418('rice.tif',dim)\n",
    "im = Image.fromarray(output_img2.astype(np.uint8))\n",
    "im.save(\"Shrinked_Bilinear_11812418.tif\")\n",
    "im.save(\"Shrinked_Bilinear_11812418.png\")\n",
    "plt.imshow(output_img2, cmap=plt.cm.Greys)\n",
    "plt.show()\n",
    "\n"
   ]
  },
  {
   "cell_type": "code",
   "execution_count": null,
   "metadata": {
    "pycharm": {
     "name": "#%%\n"
    }
   },
   "outputs": [],
   "source": [
    "delta_img = output_img2-output_img\n",
    "\n",
    "plt.imshow(delta_img, cmap=plt.cm.Greys)\n",
    "plt.show()"
   ]
  },
  {
   "cell_type": "markdown",
   "metadata": {},
   "source": [
    "### Bicubic with Scipy\n",
    "\n",
    "[https://docs.scipy.org/doc/scipy/reference/generated/scipy.interpolate.interp2d.html](https://docs.scipy.org/doc/scipy/reference/generated/scipy.interpolate.interp2d.html)"
   ]
  },
  {
   "cell_type": "code",
   "execution_count": null,
   "metadata": {
    "collapsed": false,
    "jupyter": {
     "outputs_hidden": false
    },
    "pycharm": {
     "name": "#%%\n"
    }
   },
   "outputs": [],
   "source": [
    "def Bicubic_11812418(input_file, dim):\n",
    "    image = Image.open(input_file)\n",
    "    imarray = np.array(image)\n",
    "\n",
    "    #find the dimenssion of input file\n",
    "    input_height = imarray.shape[0]\n",
    "    input_width = imarray.shape[1]\n",
    "\n",
    "    #set the output\n",
    "    #dim(0) is the height\n",
    "    #dim(1) is the width\n",
    "    #init an array\n",
    "    output_arr = np.zeros(dim)\n",
    "\n",
    "    delta_height = 1\n",
    "    delta_width = 1\n",
    "    #base: output\n",
    "\n",
    "    # construct the bicubic function\n",
    "    def interp2d_bicubic_scipy(array_data,relative_y,relative_x):\n",
    "        x = [0,1,2,3]\n",
    "        y = [0,1,2,3]\n",
    "        f = interpolate.interp2d(y, x, array_data, kind='cubic')\n",
    "        interp_result = f(relative_y,relative_x)\n",
    "        return interp_result\n",
    "\n",
    "    #iterate in output array\n",
    "    for i in range(dim[0]):\n",
    "        for j in range(dim[1]):\n",
    "            #i height (dim0)\n",
    "            #j width (dim1)\n",
    "\n",
    "            #start from 1\n",
    "            #transform to input coordinate\n",
    "            projected_height = (i)*(input_height-1)/(dim[0]-1)\n",
    "            projected_width = (j)*(input_width-1)/(dim[1]-1)\n",
    "            #print(str(projected_height) + ' ' + str(projected_width))\n",
    "\n",
    "            #find the border\n",
    "            interpolation_x_floor = int(np.floor(projected_width))\n",
    "            interpolation_y_floor = int(np.floor(projected_height))\n",
    "\n",
    "            array16 = []\n",
    "            frame_position_x = interpolation_x_floor\n",
    "            frame_position_y = interpolation_y_floor\n",
    "            #special case\n",
    "            #XY MIN\n",
    "            if((interpolation_x_floor-1<0) or (interpolation_y_floor-1<0) or (interpolation_x_floor + 2>input_width-1) or (interpolation_y_floor + 2>input_height-1)):\n",
    "\n",
    "                border_X_Min = max(0,interpolation_x_floor-1)\n",
    "                border_Y_Min = max(0,interpolation_y_floor-1)\n",
    "                border_X_Max = min(input_width-1,interpolation_x_floor+2)\n",
    "                border_Y_Max = min(input_height-1,interpolation_y_floor+2)\n",
    "\n",
    "                if ((interpolation_x_floor-border_X_Min)<(border_X_Max-interpolation_x_floor-1)):\n",
    "                    #left border\n",
    "                    frame_position_x = border_X_Min+1\n",
    "                elif ((interpolation_x_floor-border_X_Min)>(border_X_Max-interpolation_x_floor-1)):\n",
    "                    #right border\n",
    "                    frame_position_x = border_X_Max-2\n",
    "                if ((interpolation_y_floor-border_Y_Min)<(border_Y_Max-interpolation_y_floor-1)):\n",
    "                    #lower border\n",
    "                    frame_position_y = border_Y_Min+1\n",
    "                elif ((interpolation_y_floor-border_Y_Min)>(border_Y_Max-interpolation_y_floor-1)):\n",
    "                    #upper border\n",
    "                    frame_position_y = border_Y_Max-2\n",
    "\n",
    "\n",
    "            for k in range(4):\n",
    "                array16 = np.concatenate((array16, imarray[frame_position_y -1 + k][frame_position_x -1 :frame_position_x + 3]), axis=None)\n",
    "                \n",
    "\n",
    "\n",
    "            output_arr[i][j] = interp2d_bicubic_scipy(array16,(projected_height-frame_position_y+1),(projected_width-frame_position_x+1))\n",
    "\n",
    "    print(output_arr)\n",
    "    return output_arr"
   ]
  },
  {
   "cell_type": "markdown",
   "metadata": {},
   "source": [
    "#### Testbench"
   ]
  },
  {
   "cell_type": "code",
   "execution_count": null,
   "metadata": {
    "collapsed": false,
    "jupyter": {
     "outputs_hidden": false
    },
    "pycharm": {
     "name": "#%%\n"
    }
   },
   "outputs": [],
   "source": [
    "dim = (461,461)\n",
    "start_time = time.time()\n",
    "output_img2 = Bicubic_11812418('rice.tif',dim)\n",
    "print(\"--- %s seconds ---\" % (time.time() - start_time))\n",
    "im = Image.fromarray(output_img2.astype(np.uint8))\n",
    "\n",
    "im.save(\"Enlarged_Bicubic_11812418.tif\")\n",
    "im.save(\"Enlarged_Bicubic_11812418.png\")\n",
    "plt.imshow(output_img2, cmap=plt.cm.Greys)\n",
    "plt.show()"
   ]
  },
  {
   "cell_type": "code",
   "execution_count": null,
   "metadata": {
    "collapsed": false,
    "jupyter": {
     "outputs_hidden": false
    },
    "pycharm": {
     "name": "#%%\n"
    }
   },
   "outputs": [],
   "source": [
    "dim = (205,205)\n",
    "output_img2 = Bicubic_11812418('rice.tif',dim)\n",
    "im = Image.fromarray(output_img2.astype(np.uint8))\n",
    "im.save(\"Shrinked_Bicubic_11812418.tif\")\n",
    "im.save(\"Shrinked_Bicubic_11812418.png\")\n",
    "plt.imshow(output_img2, cmap=plt.cm.Greys)\n",
    "plt.show()\n"
   ]
  },
  {
   "cell_type": "code",
   "execution_count": null,
   "metadata": {
    "collapsed": false,
    "jupyter": {
     "outputs_hidden": false
    },
    "pycharm": {
     "name": "#%%\n"
    }
   },
   "outputs": [],
   "source": [
    "delta_img = output_img2-output_img\n",
    "\n",
    "plt.imshow(delta_img, cmap=plt.cm.Greys)\n",
    "plt.show()\n"
   ]
  },
  {
   "cell_type": "markdown",
   "metadata": {
    "pycharm": {
     "name": "#%% md\n"
    }
   },
   "source": [
    "### Biquintic with Scipy\n",
    "\n",
    "[https://docs.scipy.org/doc/scipy/reference/generated/scipy.interpolate.interp2d.html](https://docs.scipy.org/doc/scipy/reference/generated/scipy.interpolate.interp2d.html)"
   ]
  },
  {
   "cell_type": "code",
   "execution_count": null,
   "metadata": {
    "pycharm": {
     "name": "#%%\n"
    }
   },
   "outputs": [],
   "source": [
    "from scipy import interpolate\n",
    "import numpy as np\n",
    "import matplotlib.pyplot as plt\n",
    "from PIL import Image\n",
    "import statistics\n",
    "\n",
    "\n",
    "def Biquintic_11812418(input_file, dim):\n",
    "    image = Image.open(input_file)\n",
    "    imarray = np.array(image)\n",
    "\n",
    "    #find the dimenssion of input file\n",
    "    input_height = imarray.shape[0]\n",
    "    input_width = imarray.shape[1]\n",
    "\n",
    "    #set the output\n",
    "    #dim(0) is the height\n",
    "    #dim(1) is the width\n",
    "    #init an array\n",
    "    output_arr = np.zeros(dim)\n",
    "\n",
    "    delta_height = 1\n",
    "    delta_width = 1\n",
    "    #base: output\n",
    "\n",
    "    # construct the biquintic function\n",
    "    def interp2d_biquintic_scipy(array_data,relative_y,relative_x):\n",
    "        x = [0,1,2,3,4,5]\n",
    "        y = [0,1,2,3,4,5]\n",
    "        f = interpolate.interp2d(y, x, array_data, kind='quintic')\n",
    "        interp_result = f(relative_y,relative_x)\n",
    "\n",
    "        return interp_result\n",
    "\n",
    "    #iterate in output array\n",
    "    for i in range(dim[0]):\n",
    "        for j in range(dim[1]):\n",
    "            #i height (dim0)\n",
    "            #j width (dim1)\n",
    "\n",
    "            #start from 1\n",
    "            #transform to input coordinate\n",
    "            projected_height = (i)*(input_height-1)/(dim[0]-1)\n",
    "            projected_width = (j)*(input_width-1)/(dim[1]-1)\n",
    "\n",
    "            #find the border\n",
    "            interpolation_x_floor = int(np.floor(projected_width))\n",
    "            interpolation_y_floor = int(np.floor(projected_height))\n",
    "\n",
    "            array36 = []\n",
    "            frame_position_x = interpolation_x_floor\n",
    "            frame_position_y = interpolation_y_floor\n",
    "            #special case\n",
    "            #XY MIN\n",
    "            if((interpolation_x_floor-2<0) or (interpolation_y_floor-2<0) or (interpolation_x_floor + 2>input_width-2) or (interpolation_y_floor + 2>input_height-2)):\n",
    "\n",
    "                border_X_Min = max(0,interpolation_x_floor-2)\n",
    "                border_Y_Min = max(0,interpolation_y_floor-2)\n",
    "                border_X_Max = min(input_width-1,interpolation_x_floor+3)\n",
    "                border_Y_Max = min(input_height-1,interpolation_y_floor+3)\n",
    "\n",
    "                if ((interpolation_x_floor-border_X_Min)<(border_X_Max-interpolation_x_floor-1)):\n",
    "                    #left border\n",
    "                    frame_position_x = border_X_Min+2\n",
    "                elif ((interpolation_x_floor-border_X_Min)>(border_X_Max-interpolation_x_floor-1)):\n",
    "                    #right border\n",
    "                    frame_position_x = border_X_Max-3\n",
    "                if ((interpolation_y_floor-border_Y_Min)<(border_Y_Max-interpolation_y_floor-1)):\n",
    "                    #lower border\n",
    "                    frame_position_y = border_Y_Min+2\n",
    "                elif ((interpolation_y_floor-border_Y_Min)>(border_Y_Max-interpolation_y_floor-1)):\n",
    "                    #upper border\n",
    "                    frame_position_y = border_Y_Max-3\n",
    "\n",
    "\n",
    "            for k in range(6):\n",
    "                array36 = np.concatenate((array36, imarray[frame_position_y -2 + k][frame_position_x -2 :frame_position_x + 4]), axis=None)\n",
    "\n",
    "\n",
    "            output_arr[i][j] = interp2d_biquintic_scipy(array36,(projected_height-frame_position_y+2),(projected_width-frame_position_x+2))\n",
    "\n",
    "    print(output_arr)\n",
    "    return output_arr"
   ]
  },
  {
   "cell_type": "markdown",
   "metadata": {},
   "source": [
    "#### Testbench"
   ]
  },
  {
   "cell_type": "code",
   "execution_count": null,
   "metadata": {
    "pycharm": {
     "name": "#%%\n"
    }
   },
   "outputs": [],
   "source": [
    "dim = (461,461)\n",
    "start_time = time.time()\n",
    "output_img2 = Biquintic_11812418('rice.tif',dim)\n",
    "print(\"--- %s seconds ---\" % (time.time() - start_time))\n",
    "im = Image.fromarray(output_img2.astype(np.uint8))\n",
    "im = Image.fromarray(output_img2.astype(np.uint8))\n",
    "im.save(\"Enlarged_Biquintic_11812418.tif\")\n",
    "im.save(\"Enlarged_Biquintic_11812418.png\")\n",
    "plt.imshow(output_img2, cmap=plt.cm.Greys)\n",
    "plt.show()"
   ]
  },
  {
   "cell_type": "code",
   "execution_count": null,
   "metadata": {
    "collapsed": false,
    "jupyter": {
     "outputs_hidden": false
    },
    "pycharm": {
     "name": "#%%\n"
    }
   },
   "outputs": [],
   "source": [
    "dim = (205,205)\n",
    "output_img2 = Biquintic_11812418('rice.tif',dim)\n",
    "im = Image.fromarray(output_img2.astype(np.uint8))\n",
    "im.save(\"Shrinked_Biquintic_11812418.tif\")\n",
    "im.save(\"Shrinked_Biquintic_11812418.png\")\n",
    "plt.imshow(output_img2, cmap=plt.cm.Greys)\n",
    "plt.show()\n"
   ]
  },
  {
   "cell_type": "code",
   "execution_count": null,
   "metadata": {
    "pycharm": {
     "name": "#%%\n"
    }
   },
   "outputs": [],
   "source": [
    "delta_img = output_img2-output_img\n",
    "\n",
    "plt.imshow(delta_img, cmap=plt.cm.Greys)\n",
    "plt.show()\n",
    "\n"
   ]
  }
 ],
 "metadata": {
  "kernelspec": {
   "display_name": "Python 3",
   "language": "python",
   "name": "python3"
  },
  "language_info": {
   "codemirror_mode": {
    "name": "ipython",
    "version": 3
   },
   "file_extension": ".py",
   "mimetype": "text/x-python",
   "name": "python",
   "nbconvert_exporter": "python",
   "pygments_lexer": "ipython3",
   "version": "3.8.5"
  }
 },
 "nbformat": 4,
 "nbformat_minor": 4
}